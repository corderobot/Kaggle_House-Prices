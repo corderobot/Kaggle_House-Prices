{
  "nbformat": 4,
  "nbformat_minor": 0,
  "metadata": {
    "colab": {
      "name": "HousePrices_NN.ipynb",
      "provenance": [],
      "collapsed_sections": [],
      "toc_visible": true,
      "authorship_tag": "ABX9TyP6hlZfFXGL6WPBaCPsXTu7",
      "include_colab_link": true
    },
    "kernelspec": {
      "name": "python3",
      "display_name": "Python 3"
    }
  },
  "cells": [
    {
      "cell_type": "markdown",
      "metadata": {
        "id": "view-in-github",
        "colab_type": "text"
      },
      "source": [
        "<a href=\"https://colab.research.google.com/github/corderobot/Kaggle_HousePrices/blob/master/NNs/HousePrices_NN.ipynb\" target=\"_parent\"><img src=\"https://colab.research.google.com/assets/colab-badge.svg\" alt=\"Open In Colab\"/></a>"
      ]
    },
    {
      "cell_type": "markdown",
      "metadata": {
        "id": "cGwJTi5Oxhx-",
        "colab_type": "text"
      },
      "source": [
        "# Imports"
      ]
    },
    {
      "cell_type": "code",
      "metadata": {
        "id": "hbwPRIg8kTTt",
        "colab_type": "code",
        "colab": {}
      },
      "source": [
        "%tensorflow_version 2.x\n",
        "import tensorflow as tf\n",
        "\n",
        "from tensorflow.keras import Sequential\n",
        "from tensorflow.keras.optimizers import RMSprop\n",
        "from tensorflow.keras.layers import Dense\n",
        "\n",
        "import pandas as pd\n",
        "import seaborn as sns\n",
        "import numpy as np\n",
        "import matplotlib.pyplot as plt"
      ],
      "execution_count": 0,
      "outputs": []
    },
    {
      "cell_type": "markdown",
      "metadata": {
        "id": "JcBC0o4gyBrz",
        "colab_type": "text"
      },
      "source": [
        "# Dataset\n",
        "Dataset fue previamente procesado utilizando R. El dataset set limpio está subido a git en un archivo .csv llamado \"clean.csv\".\n",
        "Dicho archivo es utilizado para entrenar/probar las redes neuronales"
      ]
    },
    {
      "cell_type": "markdown",
      "metadata": {
        "id": "7ynyNj5oyc-p",
        "colab_type": "text"
      },
      "source": [
        "## Extracting"
      ]
    },
    {
      "cell_type": "code",
      "metadata": {
        "id": "-aaWrw0pyiSf",
        "colab_type": "code",
        "colab": {}
      },
      "source": [
        "dataset = pd.read_csv('https://raw.githubusercontent.com/corderobot/Kaggle_HousePrices/master/clean.csv')"
      ],
      "execution_count": 0,
      "outputs": []
    },
    {
      "cell_type": "markdown",
      "metadata": {
        "id": "CB0SIYPo0k2B",
        "colab_type": "text"
      },
      "source": [
        "## Getting to know the New Dataset"
      ]
    },
    {
      "cell_type": "code",
      "metadata": {
        "id": "aIZPFaB30nwU",
        "colab_type": "code",
        "colab": {
          "base_uri": "https://localhost:8080/",
          "height": 402
        },
        "outputId": "5a8247f9-70fb-4428-8eb5-06fd433ad7ba"
      },
      "source": [
        "dataset.columns\n",
        "#dataset.drop(dataset.columns[0])\n",
        "dataset = dataset.drop(columns=['Unnamed: 0', 'Id'])\n",
        "dataset = dataset[dataset.columns[0:10]]\n",
        "dataset"
      ],
      "execution_count": 295,
      "outputs": [
        {
          "output_type": "execute_result",
          "data": {
            "text/html": [
              "<div>\n",
              "<style scoped>\n",
              "    .dataframe tbody tr th:only-of-type {\n",
              "        vertical-align: middle;\n",
              "    }\n",
              "\n",
              "    .dataframe tbody tr th {\n",
              "        vertical-align: top;\n",
              "    }\n",
              "\n",
              "    .dataframe thead th {\n",
              "        text-align: right;\n",
              "    }\n",
              "</style>\n",
              "<table border=\"1\" class=\"dataframe\">\n",
              "  <thead>\n",
              "    <tr style=\"text-align: right;\">\n",
              "      <th></th>\n",
              "      <th>SalePrice</th>\n",
              "      <th>OverallQual</th>\n",
              "      <th>GrLivArea</th>\n",
              "      <th>GarageCars</th>\n",
              "      <th>ExterQual</th>\n",
              "      <th>GarageArea</th>\n",
              "      <th>TotalBsmtSF</th>\n",
              "      <th>X1stFlrSF</th>\n",
              "      <th>KitchenQual</th>\n",
              "      <th>BsmtQual</th>\n",
              "    </tr>\n",
              "  </thead>\n",
              "  <tbody>\n",
              "    <tr>\n",
              "      <th>0</th>\n",
              "      <td>208500</td>\n",
              "      <td>0.666667</td>\n",
              "      <td>0.259231</td>\n",
              "      <td>0.50</td>\n",
              "      <td>0.5</td>\n",
              "      <td>0.386460</td>\n",
              "      <td>0.140098</td>\n",
              "      <td>0.119780</td>\n",
              "      <td>0.5</td>\n",
              "      <td>0.8</td>\n",
              "    </tr>\n",
              "    <tr>\n",
              "      <th>1</th>\n",
              "      <td>181500</td>\n",
              "      <td>0.555556</td>\n",
              "      <td>0.174830</td>\n",
              "      <td>0.50</td>\n",
              "      <td>1.0</td>\n",
              "      <td>0.324401</td>\n",
              "      <td>0.206547</td>\n",
              "      <td>0.212942</td>\n",
              "      <td>1.0</td>\n",
              "      <td>0.8</td>\n",
              "    </tr>\n",
              "    <tr>\n",
              "      <th>2</th>\n",
              "      <td>223500</td>\n",
              "      <td>0.666667</td>\n",
              "      <td>0.273549</td>\n",
              "      <td>0.50</td>\n",
              "      <td>0.5</td>\n",
              "      <td>0.428773</td>\n",
              "      <td>0.150573</td>\n",
              "      <td>0.134465</td>\n",
              "      <td>0.5</td>\n",
              "      <td>0.8</td>\n",
              "    </tr>\n",
              "    <tr>\n",
              "      <th>3</th>\n",
              "      <td>140000</td>\n",
              "      <td>0.666667</td>\n",
              "      <td>0.260550</td>\n",
              "      <td>0.75</td>\n",
              "      <td>1.0</td>\n",
              "      <td>0.452750</td>\n",
              "      <td>0.123732</td>\n",
              "      <td>0.143873</td>\n",
              "      <td>0.5</td>\n",
              "      <td>1.0</td>\n",
              "    </tr>\n",
              "    <tr>\n",
              "      <th>4</th>\n",
              "      <td>250000</td>\n",
              "      <td>0.777778</td>\n",
              "      <td>0.351168</td>\n",
              "      <td>0.75</td>\n",
              "      <td>0.5</td>\n",
              "      <td>0.589563</td>\n",
              "      <td>0.187398</td>\n",
              "      <td>0.186095</td>\n",
              "      <td>0.5</td>\n",
              "      <td>0.8</td>\n",
              "    </tr>\n",
              "    <tr>\n",
              "      <th>...</th>\n",
              "      <td>...</td>\n",
              "      <td>...</td>\n",
              "      <td>...</td>\n",
              "      <td>...</td>\n",
              "      <td>...</td>\n",
              "      <td>...</td>\n",
              "      <td>...</td>\n",
              "      <td>...</td>\n",
              "      <td>...</td>\n",
              "      <td>...</td>\n",
              "    </tr>\n",
              "    <tr>\n",
              "      <th>1455</th>\n",
              "      <td>210000</td>\n",
              "      <td>0.555556</td>\n",
              "      <td>0.327619</td>\n",
              "      <td>0.50</td>\n",
              "      <td>1.0</td>\n",
              "      <td>0.352609</td>\n",
              "      <td>0.252373</td>\n",
              "      <td>0.399036</td>\n",
              "      <td>1.0</td>\n",
              "      <td>0.8</td>\n",
              "    </tr>\n",
              "    <tr>\n",
              "      <th>1456</th>\n",
              "      <td>266500</td>\n",
              "      <td>0.666667</td>\n",
              "      <td>0.377920</td>\n",
              "      <td>0.25</td>\n",
              "      <td>1.0</td>\n",
              "      <td>0.177715</td>\n",
              "      <td>0.188543</td>\n",
              "      <td>0.195961</td>\n",
              "      <td>0.5</td>\n",
              "      <td>1.0</td>\n",
              "    </tr>\n",
              "    <tr>\n",
              "      <th>1457</th>\n",
              "      <td>142125</td>\n",
              "      <td>0.444444</td>\n",
              "      <td>0.140166</td>\n",
              "      <td>0.25</td>\n",
              "      <td>1.0</td>\n",
              "      <td>0.169252</td>\n",
              "      <td>0.176432</td>\n",
              "      <td>0.170721</td>\n",
              "      <td>0.5</td>\n",
              "      <td>1.0</td>\n",
              "    </tr>\n",
              "    <tr>\n",
              "      <th>1458</th>\n",
              "      <td>147500</td>\n",
              "      <td>0.444444</td>\n",
              "      <td>0.173700</td>\n",
              "      <td>0.25</td>\n",
              "      <td>0.5</td>\n",
              "      <td>0.194640</td>\n",
              "      <td>0.205565</td>\n",
              "      <td>0.211565</td>\n",
              "      <td>1.0</td>\n",
              "      <td>1.0</td>\n",
              "    </tr>\n",
              "    <tr>\n",
              "      <th>1459</th>\n",
              "      <td>137500</td>\n",
              "      <td>0.555556</td>\n",
              "      <td>0.190279</td>\n",
              "      <td>0.50</td>\n",
              "      <td>1.0</td>\n",
              "      <td>0.370240</td>\n",
              "      <td>0.134043</td>\n",
              "      <td>0.231758</td>\n",
              "      <td>0.5</td>\n",
              "      <td>1.0</td>\n",
              "    </tr>\n",
              "  </tbody>\n",
              "</table>\n",
              "<p>1460 rows × 10 columns</p>\n",
              "</div>"
            ],
            "text/plain": [
              "      SalePrice  OverallQual  GrLivArea  ...  X1stFlrSF  KitchenQual  BsmtQual\n",
              "0        208500     0.666667   0.259231  ...   0.119780          0.5       0.8\n",
              "1        181500     0.555556   0.174830  ...   0.212942          1.0       0.8\n",
              "2        223500     0.666667   0.273549  ...   0.134465          0.5       0.8\n",
              "3        140000     0.666667   0.260550  ...   0.143873          0.5       1.0\n",
              "4        250000     0.777778   0.351168  ...   0.186095          0.5       0.8\n",
              "...         ...          ...        ...  ...        ...          ...       ...\n",
              "1455     210000     0.555556   0.327619  ...   0.399036          1.0       0.8\n",
              "1456     266500     0.666667   0.377920  ...   0.195961          0.5       1.0\n",
              "1457     142125     0.444444   0.140166  ...   0.170721          0.5       1.0\n",
              "1458     147500     0.444444   0.173700  ...   0.211565          1.0       1.0\n",
              "1459     137500     0.555556   0.190279  ...   0.231758          0.5       1.0\n",
              "\n",
              "[1460 rows x 10 columns]"
            ]
          },
          "metadata": {
            "tags": []
          },
          "execution_count": 295
        }
      ]
    },
    {
      "cell_type": "markdown",
      "metadata": {
        "id": "devIiqrWzIex",
        "colab_type": "text"
      },
      "source": [
        "## Correlation Heat Map"
      ]
    },
    {
      "cell_type": "code",
      "metadata": {
        "id": "HmFdq_6rzMUc",
        "colab_type": "code",
        "colab": {
          "base_uri": "https://localhost:8080/",
          "height": 826
        },
        "outputId": "c2619182-b8f4-425a-b39f-c579341d18a4"
      },
      "source": [
        "corr = dataset.corr()\n",
        "plt.figure(figsize=(13,13))\n",
        "sns.heatmap(corr, linewidths=.5, cmap='viridis')"
      ],
      "execution_count": 296,
      "outputs": [
        {
          "output_type": "execute_result",
          "data": {
            "text/plain": [
              "<matplotlib.axes._subplots.AxesSubplot at 0x7f54e993c080>"
            ]
          },
          "metadata": {
            "tags": []
          },
          "execution_count": 296
        },
        {
          "output_type": "display_data",
          "data": {
            "image/png": "[encoded data removed]",
            "text/plain": [
              "<Figure size 936x936 with 2 Axes>"
            ]
          },
          "metadata": {
            "tags": []
          }
        }
      ]
    },
    {
      "cell_type": "markdown",
      "metadata": {
        "id": "MYAhCxHf3XnG",
        "colab_type": "text"
      },
      "source": [
        "## Partitioning\n",
        "Se utilizará como criterio: 75% para entrenamiento y 25% para Test "
      ]
    },
    {
      "cell_type": "code",
      "metadata": {
        "id": "4EuPZsU20LoW",
        "colab_type": "code",
        "colab": {}
      },
      "source": [
        "# Training\n",
        "dataTrain = dataset.sample(frac = 0.75)\n",
        "trainPredictions = dataTrain[\"SalePrice\"]\n",
        "dataTrain = dataTrain.drop(columns=['SalePrice'])\n",
        "\n",
        "# Test\n",
        "dataTest = dataset.drop(dataTrain.index)\n",
        "testPredictions = dataTest[\"SalePrice\"]\n",
        "dataTest = dataTest.drop(columns=['SalePrice'])"
      ],
      "execution_count": 0,
      "outputs": []
    },
    {
      "cell_type": "markdown",
      "metadata": {
        "id": "JufNvuY04MgZ",
        "colab_type": "text"
      },
      "source": [
        "# Modelo"
      ]
    },
    {
      "cell_type": "markdown",
      "metadata": {
        "id": "x6kefozz9QJK",
        "colab_type": "text"
      },
      "source": [
        "## Macro Variables\n",
        "Variables macro que son utilizados como parámetros en el entrenamiento"
      ]
    },
    {
      "cell_type": "code",
      "metadata": {
        "id": "g4lNK9xd9T9g",
        "colab_type": "code",
        "colab": {}
      },
      "source": [
        "epochs = 100\n",
        "split = 0.2"
      ],
      "execution_count": 0,
      "outputs": []
    },
    {
      "cell_type": "markdown",
      "metadata": {
        "id": "qlRoG4Cp8o8_",
        "colab_type": "text"
      },
      "source": [
        "## Useful Functions"
      ]
    },
    {
      "cell_type": "markdown",
      "metadata": {
        "id": "ISEKgesg8q8j",
        "colab_type": "text"
      },
      "source": [
        "### Model Defintion"
      ]
    },
    {
      "cell_type": "code",
      "metadata": {
        "id": "-5Ekcapt4Ke5",
        "colab_type": "code",
        "colab": {}
      },
      "source": [
        "def buildModel(inputShape):\n",
        "  model = Sequential([\n",
        "      Dense(2048, activation='relu', input_shape=(inputShape,)),\n",
        "      Dense(1024, activation='relu'),\n",
        "      Dense(512, activation='relu'),\n",
        "      Dense(128, activation='relu'),\n",
        "      Dense(32, activation='relu'),\n",
        "      Dense(4, activation='relu'),\n",
        "      Dense(1)\n",
        "  ])\n",
        "\n",
        "  opt = RMSprop(0.001)\n",
        "\n",
        "  model.compile(optimizer=opt,\n",
        "              loss='mse',\n",
        "              metrics=['mae', 'mse'])\n",
        "  return model"
      ],
      "execution_count": 0,
      "outputs": []
    },
    {
      "cell_type": "markdown",
      "metadata": {
        "id": "ZYzQgWsw8uYG",
        "colab_type": "text"
      },
      "source": [
        "### Fit Function"
      ]
    },
    {
      "cell_type": "code",
      "metadata": {
        "id": "Dl0McfZw8zkW",
        "colab_type": "code",
        "colab": {}
      },
      "source": [
        "def train_model(model, data, predictions):\n",
        "  print(\"Training\")\n",
        "  return model.fit(data,\n",
        "                      predictions,\n",
        "                      epochs=epochs,\n",
        "                      #validation_data=validation_split,\n",
        "                      validation_split=split\n",
        "                    )"
      ],
      "execution_count": 0,
      "outputs": []
    },
    {
      "cell_type": "markdown",
      "metadata": {
        "id": "ZrriwYPM86Ji",
        "colab_type": "text"
      },
      "source": [
        "### Evaluation Function"
      ]
    },
    {
      "cell_type": "code",
      "metadata": {
        "id": "DVXX6ZXX9DL2",
        "colab_type": "code",
        "colab": {}
      },
      "source": [
        "def evaluate_model(model, data, predictions):\n",
        "  print(\"\\nEvaluation\")\n",
        "  return model.evaluate(data, predictions)"
      ],
      "execution_count": 0,
      "outputs": []
    },
    {
      "cell_type": "markdown",
      "metadata": {
        "id": "47jz8FIr9G9F",
        "colab_type": "text"
      },
      "source": [
        "### Prediction Function"
      ]
    },
    {
      "cell_type": "code",
      "metadata": {
        "id": "9pkG-03P9I32",
        "colab_type": "code",
        "colab": {}
      },
      "source": [
        "def predictions_model(model, data):\n",
        "  return model.predict(data)"
      ],
      "execution_count": 0,
      "outputs": []
    },
    {
      "cell_type": "markdown",
      "metadata": {
        "id": "e20q6Fy-4O_g",
        "colab_type": "text"
      },
      "source": [
        "## Construcción del Modelo"
      ]
    },
    {
      "cell_type": "code",
      "metadata": {
        "id": "gGPULE4rBMUa",
        "colab_type": "code",
        "colab": {
          "base_uri": "https://localhost:8080/",
          "height": 34
        },
        "outputId": "6588889c-b5d3-4719-a20b-ed3f634f5ab9"
      },
      "source": [
        "len(dataTrain.columns)"
      ],
      "execution_count": 303,
      "outputs": [
        {
          "output_type": "execute_result",
          "data": {
            "text/plain": [
              "9"
            ]
          },
          "metadata": {
            "tags": []
          },
          "execution_count": 303
        }
      ]
    },
    {
      "cell_type": "code",
      "metadata": {
        "id": "i2KbYGgO7Lh1",
        "colab_type": "code",
        "colab": {
          "base_uri": "https://localhost:8080/",
          "height": 386
        },
        "outputId": "7cbaba66-c09d-47da-e045-4fbc18417c3d"
      },
      "source": [
        "model = buildModel(len(dataTrain.columns))\n",
        "model.summary()"
      ],
      "execution_count": 304,
      "outputs": [
        {
          "output_type": "stream",
          "text": [
            "Model: \"sequential_20\"\n",
            "_________________________________________________________________\n",
            "Layer (type)                 Output Shape              Param #   \n",
            "=================================================================\n",
            "dense_58 (Dense)             (None, 2048)              20480     \n",
            "_________________________________________________________________\n",
            "dense_59 (Dense)             (None, 1024)              2098176   \n",
            "_________________________________________________________________\n",
            "dense_60 (Dense)             (None, 512)               524800    \n",
            "_________________________________________________________________\n",
            "dense_61 (Dense)             (None, 128)               65664     \n",
            "_________________________________________________________________\n",
            "dense_62 (Dense)             (None, 32)                4128      \n",
            "_________________________________________________________________\n",
            "dense_63 (Dense)             (None, 4)                 132       \n",
            "_________________________________________________________________\n",
            "dense_64 (Dense)             (None, 1)                 5         \n",
            "=================================================================\n",
            "Total params: 2,713,385\n",
            "Trainable params: 2,713,385\n",
            "Non-trainable params: 0\n",
            "_________________________________________________________________\n"
          ],
          "name": "stdout"
        }
      ]
    },
    {
      "cell_type": "markdown",
      "metadata": {
        "id": "2tblaF1T4Spx",
        "colab_type": "text"
      },
      "source": [
        "## Evaluación del Modelo"
      ]
    },
    {
      "cell_type": "code",
      "metadata": {
        "id": "afbRuMV2DN5f",
        "colab_type": "code",
        "colab": {
          "base_uri": "https://localhost:8080/",
          "height": 402
        },
        "outputId": "dc3709ec-bff6-45e9-d122-466c428a5b06"
      },
      "source": [
        "dataTrain"
      ],
      "execution_count": 305,
      "outputs": [
        {
          "output_type": "execute_result",
          "data": {
            "text/html": [
              "<div>\n",
              "<style scoped>\n",
              "    .dataframe tbody tr th:only-of-type {\n",
              "        vertical-align: middle;\n",
              "    }\n",
              "\n",
              "    .dataframe tbody tr th {\n",
              "        vertical-align: top;\n",
              "    }\n",
              "\n",
              "    .dataframe thead th {\n",
              "        text-align: right;\n",
              "    }\n",
              "</style>\n",
              "<table border=\"1\" class=\"dataframe\">\n",
              "  <thead>\n",
              "    <tr style=\"text-align: right;\">\n",
              "      <th></th>\n",
              "      <th>OverallQual</th>\n",
              "      <th>GrLivArea</th>\n",
              "      <th>GarageCars</th>\n",
              "      <th>ExterQual</th>\n",
              "      <th>GarageArea</th>\n",
              "      <th>TotalBsmtSF</th>\n",
              "      <th>X1stFlrSF</th>\n",
              "      <th>KitchenQual</th>\n",
              "      <th>BsmtQual</th>\n",
              "    </tr>\n",
              "  </thead>\n",
              "  <tbody>\n",
              "    <tr>\n",
              "      <th>212</th>\n",
              "      <td>0.666667</td>\n",
              "      <td>0.285983</td>\n",
              "      <td>0.50</td>\n",
              "      <td>1.0</td>\n",
              "      <td>0.454161</td>\n",
              "      <td>0.147300</td>\n",
              "      <td>0.137219</td>\n",
              "      <td>0.5</td>\n",
              "      <td>0.8</td>\n",
              "    </tr>\n",
              "    <tr>\n",
              "      <th>451</th>\n",
              "      <td>0.666667</td>\n",
              "      <td>0.225885</td>\n",
              "      <td>0.50</td>\n",
              "      <td>1.0</td>\n",
              "      <td>0.406206</td>\n",
              "      <td>0.250900</td>\n",
              "      <td>0.275126</td>\n",
              "      <td>0.5</td>\n",
              "      <td>0.8</td>\n",
              "    </tr>\n",
              "    <tr>\n",
              "      <th>441</th>\n",
              "      <td>0.333333</td>\n",
              "      <td>0.208365</td>\n",
              "      <td>0.00</td>\n",
              "      <td>1.0</td>\n",
              "      <td>0.000000</td>\n",
              "      <td>0.235679</td>\n",
              "      <td>0.253786</td>\n",
              "      <td>0.0</td>\n",
              "      <td>1.0</td>\n",
              "    </tr>\n",
              "    <tr>\n",
              "      <th>1389</th>\n",
              "      <td>0.666667</td>\n",
              "      <td>0.224378</td>\n",
              "      <td>0.50</td>\n",
              "      <td>0.5</td>\n",
              "      <td>0.381523</td>\n",
              "      <td>0.249591</td>\n",
              "      <td>0.273291</td>\n",
              "      <td>0.5</td>\n",
              "      <td>0.8</td>\n",
              "    </tr>\n",
              "    <tr>\n",
              "      <th>780</th>\n",
              "      <td>0.666667</td>\n",
              "      <td>0.173135</td>\n",
              "      <td>0.50</td>\n",
              "      <td>1.0</td>\n",
              "      <td>0.283498</td>\n",
              "      <td>0.202455</td>\n",
              "      <td>0.210877</td>\n",
              "      <td>1.0</td>\n",
              "      <td>0.8</td>\n",
              "    </tr>\n",
              "    <tr>\n",
              "      <th>...</th>\n",
              "      <td>...</td>\n",
              "      <td>...</td>\n",
              "      <td>...</td>\n",
              "      <td>...</td>\n",
              "      <td>...</td>\n",
              "      <td>...</td>\n",
              "      <td>...</td>\n",
              "      <td>...</td>\n",
              "      <td>...</td>\n",
              "    </tr>\n",
              "    <tr>\n",
              "      <th>752</th>\n",
              "      <td>0.555556</td>\n",
              "      <td>0.218538</td>\n",
              "      <td>0.50</td>\n",
              "      <td>1.0</td>\n",
              "      <td>0.406206</td>\n",
              "      <td>0.242062</td>\n",
              "      <td>0.266177</td>\n",
              "      <td>0.5</td>\n",
              "      <td>0.8</td>\n",
              "    </tr>\n",
              "    <tr>\n",
              "      <th>720</th>\n",
              "      <td>0.777778</td>\n",
              "      <td>0.265260</td>\n",
              "      <td>0.50</td>\n",
              "      <td>0.5</td>\n",
              "      <td>0.397743</td>\n",
              "      <td>0.285106</td>\n",
              "      <td>0.323084</td>\n",
              "      <td>0.5</td>\n",
              "      <td>0.8</td>\n",
              "    </tr>\n",
              "    <tr>\n",
              "      <th>94</th>\n",
              "      <td>0.555556</td>\n",
              "      <td>0.273549</td>\n",
              "      <td>0.50</td>\n",
              "      <td>1.0</td>\n",
              "      <td>0.482370</td>\n",
              "      <td>0.134861</td>\n",
              "      <td>0.131023</td>\n",
              "      <td>0.5</td>\n",
              "      <td>0.8</td>\n",
              "    </tr>\n",
              "    <tr>\n",
              "      <th>1010</th>\n",
              "      <td>0.444444</td>\n",
              "      <td>0.250565</td>\n",
              "      <td>0.00</td>\n",
              "      <td>1.0</td>\n",
              "      <td>0.000000</td>\n",
              "      <td>0.000000</td>\n",
              "      <td>0.305186</td>\n",
              "      <td>1.0</td>\n",
              "      <td>0.0</td>\n",
              "    </tr>\n",
              "    <tr>\n",
              "      <th>873</th>\n",
              "      <td>0.444444</td>\n",
              "      <td>0.175961</td>\n",
              "      <td>0.25</td>\n",
              "      <td>0.5</td>\n",
              "      <td>0.203103</td>\n",
              "      <td>0.136170</td>\n",
              "      <td>0.161083</td>\n",
              "      <td>1.0</td>\n",
              "      <td>1.0</td>\n",
              "    </tr>\n",
              "  </tbody>\n",
              "</table>\n",
              "<p>1095 rows × 9 columns</p>\n",
              "</div>"
            ],
            "text/plain": [
              "      OverallQual  GrLivArea  GarageCars  ...  X1stFlrSF  KitchenQual  BsmtQual\n",
              "212      0.666667   0.285983        0.50  ...   0.137219          0.5       0.8\n",
              "451      0.666667   0.225885        0.50  ...   0.275126          0.5       0.8\n",
              "441      0.333333   0.208365        0.00  ...   0.253786          0.0       1.0\n",
              "1389     0.666667   0.224378        0.50  ...   0.273291          0.5       0.8\n",
              "780      0.666667   0.173135        0.50  ...   0.210877          1.0       0.8\n",
              "...           ...        ...         ...  ...        ...          ...       ...\n",
              "752      0.555556   0.218538        0.50  ...   0.266177          0.5       0.8\n",
              "720      0.777778   0.265260        0.50  ...   0.323084          0.5       0.8\n",
              "94       0.555556   0.273549        0.50  ...   0.131023          0.5       0.8\n",
              "1010     0.444444   0.250565        0.00  ...   0.305186          1.0       0.0\n",
              "873      0.444444   0.175961        0.25  ...   0.161083          1.0       1.0\n",
              "\n",
              "[1095 rows x 9 columns]"
            ]
          },
          "metadata": {
            "tags": []
          },
          "execution_count": 305
        }
      ]
    },
    {
      "cell_type": "code",
      "metadata": {
        "id": "GFZCYU9CD9uY",
        "colab_type": "code",
        "colab": {
          "base_uri": "https://localhost:8080/",
          "height": 218
        },
        "outputId": "2b49ae2d-2e73-4719-a3f9-8de5492eef0f"
      },
      "source": [
        "trainPredictions"
      ],
      "execution_count": 306,
      "outputs": [
        {
          "output_type": "execute_result",
          "data": {
            "text/plain": [
              "212     252678\n",
              "451     280000\n",
              "441     118000\n",
              "1389    235000\n",
              "780     176000\n",
              "         ...  \n",
              "752     217000\n",
              "720     275000\n",
              "94      204750\n",
              "1010    100000\n",
              "873     133000\n",
              "Name: SalePrice, Length: 1095, dtype: int64"
            ]
          },
          "metadata": {
            "tags": []
          },
          "execution_count": 306
        }
      ]
    },
    {
      "cell_type": "code",
      "metadata": {
        "id": "c2wmKwoS4Wz7",
        "colab_type": "code",
        "colab": {
          "base_uri": "https://localhost:8080/",
          "height": 1000
        },
        "outputId": "b345e1d6-4fa6-4617-c9c9-e456e0ea6308"
      },
      "source": [
        "# Training\n",
        "train_model(model, dataTrain, trainPredictions)\n",
        "\n",
        "# Evaluation\n",
        "evaluation = evaluate_model(model, dataTest, testPredictions)\n",
        "evaluation"
      ],
      "execution_count": 307,
      "outputs": [
        {
          "output_type": "stream",
          "text": [
            "Training\n",
            "Epoch 1/100\n",
            "28/28 [==============================] - 1s 45ms/step - loss: 30954379264.0000 - mae: 155517.7344 - mse: 31288223744.0000 - val_loss: 7052100096.0000 - val_mae: 55782.8086 - val_mse: 7138472960.0000\n",
            "Epoch 2/100\n",
            "28/28 [==============================] - 1s 41ms/step - loss: 5090110464.0000 - mae: 52981.2539 - mse: 5112576000.0000 - val_loss: 4672408576.0000 - val_mae: 52860.4531 - val_mse: 4717682176.0000\n",
            "Epoch 3/100\n",
            "28/28 [==============================] - 1s 41ms/step - loss: 4371330048.0000 - mae: 49086.0312 - mse: 4316138496.0000 - val_loss: 3712737280.0000 - val_mae: 42839.7617 - val_mse: 3758910464.0000\n",
            "Epoch 4/100\n",
            "28/28 [==============================] - 1s 41ms/step - loss: 3686070016.0000 - mae: 43283.6602 - mse: 3620349184.0000 - val_loss: 2984300288.0000 - val_mae: 38429.4219 - val_mse: 3020199424.0000\n",
            "Epoch 5/100\n",
            "28/28 [==============================] - 1s 40ms/step - loss: 2854477056.0000 - mae: 36666.6680 - mse: 2891692288.0000 - val_loss: 2383935744.0000 - val_mae: 30403.0371 - val_mse: 2414818304.0000\n",
            "Epoch 6/100\n",
            "28/28 [==============================] - 1s 40ms/step - loss: 2512734976.0000 - mae: 33780.3242 - mse: 2546166784.0000 - val_loss: 2641130752.0000 - val_mae: 31299.0449 - val_mse: 2669580032.0000\n",
            "Epoch 7/100\n",
            "28/28 [==============================] - 1s 41ms/step - loss: 2268696832.0000 - mae: 30790.7891 - mse: 2295300608.0000 - val_loss: 1752150272.0000 - val_mae: 25582.4980 - val_mse: 1773277312.0000\n",
            "Epoch 8/100\n",
            "28/28 [==============================] - 1s 41ms/step - loss: 2125769856.0000 - mae: 29925.2832 - mse: 2130805888.0000 - val_loss: 1623325696.0000 - val_mae: 28720.5234 - val_mse: 1643422976.0000\n",
            "Epoch 9/100\n",
            "28/28 [==============================] - 1s 40ms/step - loss: 2134552832.0000 - mae: 29806.8730 - mse: 2156888576.0000 - val_loss: 1486057216.0000 - val_mae: 26061.9277 - val_mse: 1504177792.0000\n",
            "Epoch 10/100\n",
            "28/28 [==============================] - 1s 40ms/step - loss: 2153171712.0000 - mae: 29685.0234 - mse: 2050547968.0000 - val_loss: 1780976384.0000 - val_mae: 32315.1855 - val_mse: 1802628736.0000\n",
            "Epoch 11/100\n",
            "28/28 [==============================] - 1s 40ms/step - loss: 2031913600.0000 - mae: 29404.1934 - mse: 2005879680.0000 - val_loss: 1404193024.0000 - val_mae: 25165.3398 - val_mse: 1420585472.0000\n",
            "Epoch 12/100\n",
            "28/28 [==============================] - 1s 40ms/step - loss: 1998867584.0000 - mae: 28997.0098 - mse: 2013707264.0000 - val_loss: 1432737920.0000 - val_mae: 24322.7793 - val_mse: 1447394432.0000\n",
            "Epoch 13/100\n",
            "28/28 [==============================] - 1s 40ms/step - loss: 1912937600.0000 - mae: 27591.4160 - mse: 1914778496.0000 - val_loss: 1356043264.0000 - val_mae: 24758.7578 - val_mse: 1371915520.0000\n",
            "Epoch 14/100\n",
            "28/28 [==============================] - 1s 40ms/step - loss: 1955778304.0000 - mae: 28469.1719 - mse: 1956729728.0000 - val_loss: 1352201216.0000 - val_mae: 23887.8027 - val_mse: 1366584064.0000\n",
            "Epoch 15/100\n",
            "28/28 [==============================] - 1s 40ms/step - loss: 1925741184.0000 - mae: 27641.4727 - mse: 1941130496.0000 - val_loss: 1308117760.0000 - val_mae: 23900.3281 - val_mse: 1322273152.0000\n",
            "Epoch 16/100\n",
            "28/28 [==============================] - 1s 39ms/step - loss: 1851007616.0000 - mae: 27204.3125 - mse: 1874388736.0000 - val_loss: 1293994624.0000 - val_mae: 23688.0957 - val_mse: 1308036608.0000\n",
            "Epoch 17/100\n",
            "28/28 [==============================] - 1s 40ms/step - loss: 1898458496.0000 - mae: 26730.1660 - mse: 1890156672.0000 - val_loss: 1282426624.0000 - val_mae: 24944.8027 - val_mse: 1297609600.0000\n",
            "Epoch 18/100\n",
            "28/28 [==============================] - 1s 40ms/step - loss: 1905852160.0000 - mae: 27612.3125 - mse: 1935929600.0000 - val_loss: 1250035328.0000 - val_mae: 24284.7324 - val_mse: 1264342528.0000\n",
            "Epoch 19/100\n",
            "28/28 [==============================] - 1s 40ms/step - loss: 1883156608.0000 - mae: 27120.0996 - mse: 1847989120.0000 - val_loss: 1391520512.0000 - val_mae: 27653.4688 - val_mse: 1408614656.0000\n",
            "Epoch 20/100\n",
            "28/28 [==============================] - 1s 41ms/step - loss: 1867056256.0000 - mae: 27156.2734 - mse: 1884465792.0000 - val_loss: 1253970304.0000 - val_mae: 22983.2832 - val_mse: 1265874688.0000\n",
            "Epoch 21/100\n",
            "28/28 [==============================] - 1s 40ms/step - loss: 1785251072.0000 - mae: 26615.5664 - mse: 1801507072.0000 - val_loss: 1353206528.0000 - val_mae: 23323.1504 - val_mse: 1364567808.0000\n",
            "Epoch 22/100\n",
            "28/28 [==============================] - 1s 41ms/step - loss: 1865667328.0000 - mae: 26505.4355 - mse: 1894637056.0000 - val_loss: 1427822336.0000 - val_mae: 24203.3652 - val_mse: 1437855488.0000\n",
            "Epoch 23/100\n",
            "28/28 [==============================] - 1s 40ms/step - loss: 1777928320.0000 - mae: 26223.0156 - mse: 1808337792.0000 - val_loss: 1245601152.0000 - val_mae: 22773.5391 - val_mse: 1256904320.0000\n",
            "Epoch 24/100\n",
            "28/28 [==============================] - 1s 40ms/step - loss: 1811952000.0000 - mae: 26012.7266 - mse: 1787621376.0000 - val_loss: 1333871744.0000 - val_mae: 26973.0000 - val_mse: 1350033536.0000\n",
            "Epoch 25/100\n",
            "28/28 [==============================] - 1s 40ms/step - loss: 1782976256.0000 - mae: 26701.1211 - mse: 1806495744.0000 - val_loss: 1523543424.0000 - val_mae: 25208.4863 - val_mse: 1533147136.0000\n",
            "Epoch 26/100\n",
            "28/28 [==============================] - 1s 41ms/step - loss: 1788264064.0000 - mae: 26588.6719 - mse: 1817738752.0000 - val_loss: 1222088576.0000 - val_mae: 22663.5664 - val_mse: 1232688768.0000\n",
            "Epoch 27/100\n",
            "28/28 [==============================] - 1s 41ms/step - loss: 1793203456.0000 - mae: 26703.1387 - mse: 1815755520.0000 - val_loss: 1160103168.0000 - val_mae: 22592.4453 - val_mse: 1171958272.0000\n",
            "Epoch 28/100\n",
            "28/28 [==============================] - 1s 41ms/step - loss: 1701219584.0000 - mae: 25908.0996 - mse: 1731143296.0000 - val_loss: 1213880192.0000 - val_mae: 22640.5039 - val_mse: 1224088576.0000\n",
            "Epoch 29/100\n",
            "28/28 [==============================] - 1s 41ms/step - loss: 1739596032.0000 - mae: 26153.2148 - mse: 1760545792.0000 - val_loss: 1132978432.0000 - val_mae: 22613.3516 - val_mse: 1143598336.0000\n",
            "Epoch 30/100\n",
            "28/28 [==============================] - 1s 41ms/step - loss: 1814471040.0000 - mae: 26999.4980 - mse: 1828487808.0000 - val_loss: 1117793152.0000 - val_mae: 22680.8457 - val_mse: 1128600320.0000\n",
            "Epoch 31/100\n",
            "28/28 [==============================] - 1s 41ms/step - loss: 1724124416.0000 - mae: 26576.0078 - mse: 1739630720.0000 - val_loss: 1292697472.0000 - val_mae: 23474.4297 - val_mse: 1301018240.0000\n",
            "Epoch 32/100\n",
            "28/28 [==============================] - 1s 40ms/step - loss: 1729705728.0000 - mae: 26225.3594 - mse: 1718808448.0000 - val_loss: 1158858112.0000 - val_mae: 24365.2402 - val_mse: 1171828480.0000\n",
            "Epoch 33/100\n",
            "28/28 [==============================] - 1s 39ms/step - loss: 1699545344.0000 - mae: 25948.8652 - mse: 1717851264.0000 - val_loss: 1285747712.0000 - val_mae: 23461.0547 - val_mse: 1293816192.0000\n",
            "Epoch 34/100\n",
            "28/28 [==============================] - 1s 40ms/step - loss: 1713976192.0000 - mae: 25924.6348 - mse: 1662235392.0000 - val_loss: 4103998976.0000 - val_mae: 56663.6055 - val_mse: 4142260736.0000\n",
            "Epoch 35/100\n",
            "28/28 [==============================] - 1s 41ms/step - loss: 1818882304.0000 - mae: 27152.4199 - mse: 1852605056.0000 - val_loss: 1101117184.0000 - val_mae: 22889.0586 - val_mse: 1112299904.0000\n",
            "Epoch 36/100\n",
            "28/28 [==============================] - 1s 40ms/step - loss: 1745648896.0000 - mae: 25807.5273 - mse: 1721485312.0000 - val_loss: 1126626688.0000 - val_mae: 22667.6211 - val_mse: 1134892928.0000\n",
            "Epoch 37/100\n",
            "28/28 [==============================] - 1s 40ms/step - loss: 1698254080.0000 - mae: 26354.5449 - mse: 1727724672.0000 - val_loss: 1100562176.0000 - val_mae: 23201.2148 - val_mse: 1112020480.0000\n",
            "Epoch 38/100\n",
            "28/28 [==============================] - 1s 41ms/step - loss: 1652585216.0000 - mae: 25631.2852 - mse: 1678392704.0000 - val_loss: 1846766208.0000 - val_mae: 29859.5488 - val_mse: 1853982592.0000\n",
            "Epoch 39/100\n",
            "28/28 [==============================] - 1s 40ms/step - loss: 1781178112.0000 - mae: 26593.0762 - mse: 1801933056.0000 - val_loss: 1123664128.0000 - val_mae: 22211.7344 - val_mse: 1132727424.0000\n",
            "Epoch 40/100\n",
            "28/28 [==============================] - 1s 40ms/step - loss: 1675207424.0000 - mae: 25543.7344 - mse: 1697285120.0000 - val_loss: 1269583872.0000 - val_mae: 23374.9453 - val_mse: 1276909568.0000\n",
            "Epoch 41/100\n",
            "28/28 [==============================] - 1s 41ms/step - loss: 1680517888.0000 - mae: 25863.0918 - mse: 1706826752.0000 - val_loss: 1091311872.0000 - val_mae: 23271.8516 - val_mse: 1102701056.0000\n",
            "Epoch 42/100\n",
            "28/28 [==============================] - 1s 40ms/step - loss: 1786566784.0000 - mae: 26392.4629 - mse: 1798373888.0000 - val_loss: 1365173120.0000 - val_mae: 24548.2012 - val_mse: 1372088192.0000\n",
            "Epoch 43/100\n",
            "28/28 [==============================] - 1s 40ms/step - loss: 1674074496.0000 - mae: 25327.7070 - mse: 1676535168.0000 - val_loss: 1092931712.0000 - val_mae: 22139.3027 - val_mse: 1101644032.0000\n",
            "Epoch 44/100\n",
            "28/28 [==============================] - 1s 41ms/step - loss: 1758341248.0000 - mae: 26014.6719 - mse: 1741652864.0000 - val_loss: 1395211520.0000 - val_mae: 25501.8477 - val_mse: 1400740224.0000\n",
            "Epoch 45/100\n",
            "28/28 [==============================] - 1s 40ms/step - loss: 1657308928.0000 - mae: 25003.5488 - mse: 1668139904.0000 - val_loss: 2300471040.0000 - val_mae: 35643.2773 - val_mse: 2306044416.0000\n",
            "Epoch 46/100\n",
            "28/28 [==============================] - 1s 40ms/step - loss: 1747317120.0000 - mae: 26343.8125 - mse: 1772020096.0000 - val_loss: 1056996992.0000 - val_mae: 22116.8301 - val_mse: 1066242752.0000\n",
            "Epoch 47/100\n",
            "28/28 [==============================] - 1s 39ms/step - loss: 1755146496.0000 - mae: 25790.8770 - mse: 1773137664.0000 - val_loss: 1111240832.0000 - val_mae: 22220.4746 - val_mse: 1119152512.0000\n",
            "Epoch 48/100\n",
            "28/28 [==============================] - 1s 40ms/step - loss: 1675498496.0000 - mae: 25674.3398 - mse: 1696913024.0000 - val_loss: 1117815936.0000 - val_mae: 22371.7109 - val_mse: 1125428992.0000\n",
            "Epoch 49/100\n",
            "28/28 [==============================] - 1s 40ms/step - loss: 1638518400.0000 - mae: 25102.4512 - mse: 1647642880.0000 - val_loss: 1190435456.0000 - val_mae: 22844.0586 - val_mse: 1197524864.0000\n",
            "Epoch 50/100\n",
            "28/28 [==============================] - 1s 39ms/step - loss: 1720139008.0000 - mae: 25854.7031 - mse: 1726346752.0000 - val_loss: 1379414656.0000 - val_mae: 25006.3203 - val_mse: 1385583488.0000\n",
            "Epoch 51/100\n",
            "28/28 [==============================] - 1s 40ms/step - loss: 1709575040.0000 - mae: 25513.3887 - mse: 1721690880.0000 - val_loss: 1043009408.0000 - val_mae: 22121.1406 - val_mse: 1051211328.0000\n",
            "Epoch 52/100\n",
            "28/28 [==============================] - 1s 39ms/step - loss: 1680159872.0000 - mae: 25907.9922 - mse: 1687152384.0000 - val_loss: 1038788672.0000 - val_mae: 22565.1543 - val_mse: 1048871872.0000\n",
            "Epoch 53/100\n",
            "28/28 [==============================] - 1s 39ms/step - loss: 1707400832.0000 - mae: 26140.3301 - mse: 1711879936.0000 - val_loss: 1508260224.0000 - val_mae: 26406.1738 - val_mse: 1514552320.0000\n",
            "Epoch 54/100\n",
            "28/28 [==============================] - 1s 40ms/step - loss: 1698439168.0000 - mae: 25877.7930 - mse: 1712048512.0000 - val_loss: 1036093568.0000 - val_mae: 22276.5918 - val_mse: 1044315776.0000\n",
            "Epoch 55/100\n",
            "28/28 [==============================] - 1s 39ms/step - loss: 1757512576.0000 - mae: 25460.6387 - mse: 1691348992.0000 - val_loss: 1451888640.0000 - val_mae: 29519.1094 - val_mse: 1468987776.0000\n",
            "Epoch 56/100\n",
            "28/28 [==============================] - 1s 39ms/step - loss: 1710802944.0000 - mae: 25412.3223 - mse: 1721716352.0000 - val_loss: 1049423424.0000 - val_mae: 21911.9414 - val_mse: 1057141632.0000\n",
            "Epoch 57/100\n",
            "28/28 [==============================] - 1s 40ms/step - loss: 1802012800.0000 - mae: 25584.4375 - mse: 1696925440.0000 - val_loss: 2134438656.0000 - val_mae: 37916.9766 - val_mse: 2158654976.0000\n",
            "Epoch 58/100\n",
            "28/28 [==============================] - 1s 40ms/step - loss: 1656174592.0000 - mae: 25754.2676 - mse: 1677264896.0000 - val_loss: 1242161920.0000 - val_mae: 23532.2207 - val_mse: 1248433536.0000\n",
            "Epoch 59/100\n",
            "28/28 [==============================] - 1s 39ms/step - loss: 1767703936.0000 - mae: 26004.7344 - mse: 1754784000.0000 - val_loss: 1379985280.0000 - val_mae: 28506.0156 - val_mse: 1396586240.0000\n",
            "Epoch 60/100\n",
            "28/28 [==============================] - 1s 39ms/step - loss: 1744205824.0000 - mae: 25432.8750 - mse: 1742642688.0000 - val_loss: 1210728704.0000 - val_mae: 23397.2676 - val_mse: 1216649856.0000\n",
            "Epoch 61/100\n",
            "28/28 [==============================] - 1s 39ms/step - loss: 1755565696.0000 - mae: 26108.1055 - mse: 1772801664.0000 - val_loss: 1118588672.0000 - val_mae: 22143.3418 - val_mse: 1125635584.0000\n",
            "Epoch 62/100\n",
            "28/28 [==============================] - 1s 39ms/step - loss: 1670019840.0000 - mae: 25013.3965 - mse: 1693834880.0000 - val_loss: 1148536960.0000 - val_mae: 22399.1211 - val_mse: 1155549824.0000\n",
            "Epoch 63/100\n",
            "28/28 [==============================] - 1s 40ms/step - loss: 1663457664.0000 - mae: 25061.5488 - mse: 1661919616.0000 - val_loss: 1817005184.0000 - val_mae: 30481.5117 - val_mse: 1822419968.0000\n",
            "Epoch 64/100\n",
            "28/28 [==============================] - 1s 40ms/step - loss: 1646177152.0000 - mae: 25437.4512 - mse: 1666112640.0000 - val_loss: 1054985088.0000 - val_mae: 21685.6738 - val_mse: 1062879680.0000\n",
            "Epoch 65/100\n",
            "28/28 [==============================] - 1s 39ms/step - loss: 1631547392.0000 - mae: 25013.0762 - mse: 1652290432.0000 - val_loss: 1043448640.0000 - val_mae: 21630.2402 - val_mse: 1052055488.0000\n",
            "Epoch 66/100\n",
            "28/28 [==============================] - 1s 39ms/step - loss: 1653675648.0000 - mae: 25661.9160 - mse: 1679420544.0000 - val_loss: 1016766848.0000 - val_mae: 21716.8027 - val_mse: 1025095808.0000\n",
            "Epoch 67/100\n",
            "28/28 [==============================] - 1s 39ms/step - loss: 1677096832.0000 - mae: 25086.0410 - mse: 1681655680.0000 - val_loss: 1227549312.0000 - val_mae: 23627.1738 - val_mse: 1233115904.0000\n",
            "Epoch 68/100\n",
            "28/28 [==============================] - 1s 40ms/step - loss: 1558836608.0000 - mae: 25197.0859 - mse: 1585518720.0000 - val_loss: 1226299776.0000 - val_mae: 23580.6582 - val_mse: 1231912960.0000\n",
            "Epoch 69/100\n",
            "28/28 [==============================] - 1s 40ms/step - loss: 1700428800.0000 - mae: 25468.8555 - mse: 1723881216.0000 - val_loss: 1194281344.0000 - val_mae: 23296.2461 - val_mse: 1199815296.0000\n",
            "Epoch 70/100\n",
            "28/28 [==============================] - 1s 39ms/step - loss: 1632313088.0000 - mae: 25354.9883 - mse: 1662619008.0000 - val_loss: 1048580800.0000 - val_mae: 21756.5391 - val_mse: 1055597504.0000\n",
            "Epoch 71/100\n",
            "28/28 [==============================] - 1s 40ms/step - loss: 1613370368.0000 - mae: 25361.9199 - mse: 1630588672.0000 - val_loss: 1733129856.0000 - val_mae: 29876.7031 - val_mse: 1737429248.0000\n",
            "Epoch 72/100\n",
            "28/28 [==============================] - 1s 40ms/step - loss: 1624932608.0000 - mae: 26038.6230 - mse: 1652342912.0000 - val_loss: 1186300160.0000 - val_mae: 22851.0176 - val_mse: 1192330368.0000\n",
            "Epoch 73/100\n",
            "28/28 [==============================] - 1s 40ms/step - loss: 1735831424.0000 - mae: 25835.8164 - mse: 1720782848.0000 - val_loss: 1002203328.0000 - val_mae: 21656.0078 - val_mse: 1010806976.0000\n",
            "Epoch 74/100\n",
            "28/28 [==============================] - 1s 39ms/step - loss: 1579536512.0000 - mae: 24714.9902 - mse: 1601780224.0000 - val_loss: 1257969280.0000 - val_mae: 23709.1133 - val_mse: 1263702528.0000\n",
            "Epoch 75/100\n",
            "28/28 [==============================] - 1s 40ms/step - loss: 1626505088.0000 - mae: 24746.7012 - mse: 1654949760.0000 - val_loss: 1089191168.0000 - val_mae: 22107.3281 - val_mse: 1095487232.0000\n",
            "Epoch 76/100\n",
            "28/28 [==============================] - 1s 41ms/step - loss: 1596096512.0000 - mae: 25300.4766 - mse: 1620642944.0000 - val_loss: 1526656000.0000 - val_mae: 27585.2617 - val_mse: 1530480256.0000\n",
            "Epoch 77/100\n",
            "28/28 [==============================] - 1s 40ms/step - loss: 1692865792.0000 - mae: 25518.1074 - mse: 1696417920.0000 - val_loss: 1250133248.0000 - val_mae: 26787.8867 - val_mse: 1264788096.0000\n",
            "Epoch 78/100\n",
            "28/28 [==============================] - 1s 40ms/step - loss: 1643400064.0000 - mae: 25806.7617 - mse: 1625306112.0000 - val_loss: 1081578496.0000 - val_mae: 21781.1543 - val_mse: 1088202368.0000\n",
            "Epoch 79/100\n",
            "28/28 [==============================] - 1s 40ms/step - loss: 1618216192.0000 - mae: 24889.6641 - mse: 1629623680.0000 - val_loss: 1299626368.0000 - val_mae: 24254.6797 - val_mse: 1304929536.0000\n",
            "Epoch 80/100\n",
            "28/28 [==============================] - 1s 39ms/step - loss: 1621829760.0000 - mae: 25577.8223 - mse: 1646002304.0000 - val_loss: 1012808256.0000 - val_mae: 21413.6602 - val_mse: 1020376128.0000\n",
            "Epoch 81/100\n",
            "28/28 [==============================] - 1s 40ms/step - loss: 1597071232.0000 - mae: 25330.6465 - mse: 1615839744.0000 - val_loss: 1008590784.0000 - val_mae: 21696.6797 - val_mse: 1017975168.0000\n",
            "Epoch 82/100\n",
            "28/28 [==============================] - 1s 40ms/step - loss: 1613329408.0000 - mae: 25347.9746 - mse: 1641926528.0000 - val_loss: 995669440.0000 - val_mae: 21643.2168 - val_mse: 1004369216.0000\n",
            "Epoch 83/100\n",
            "28/28 [==============================] - 1s 40ms/step - loss: 1750309760.0000 - mae: 25372.4492 - mse: 1764971904.0000 - val_loss: 1273289344.0000 - val_mae: 24322.6777 - val_mse: 1277962880.0000\n",
            "Epoch 84/100\n",
            "28/28 [==============================] - 1s 40ms/step - loss: 1621941248.0000 - mae: 25314.4648 - mse: 1650324352.0000 - val_loss: 1084855424.0000 - val_mae: 22090.3145 - val_mse: 1090806912.0000\n",
            "Epoch 85/100\n",
            "28/28 [==============================] - 1s 39ms/step - loss: 1644074752.0000 - mae: 24944.3652 - mse: 1620605184.0000 - val_loss: 1015510464.0000 - val_mae: 21452.9961 - val_mse: 1022760512.0000\n",
            "Epoch 86/100\n",
            "28/28 [==============================] - 1s 39ms/step - loss: 1630652288.0000 - mae: 25913.1523 - mse: 1645894400.0000 - val_loss: 1261613696.0000 - val_mae: 24056.7012 - val_mse: 1266652928.0000\n",
            "Epoch 87/100\n",
            "28/28 [==============================] - 1s 39ms/step - loss: 1570634368.0000 - mae: 24880.8145 - mse: 1583284864.0000 - val_loss: 1464419456.0000 - val_mae: 25890.5684 - val_mse: 1470874368.0000\n",
            "Epoch 88/100\n",
            "28/28 [==============================] - 1s 40ms/step - loss: 1634676864.0000 - mae: 25287.0703 - mse: 1643371264.0000 - val_loss: 976817792.0000 - val_mae: 22016.9160 - val_mse: 985770368.0000\n",
            "Epoch 89/100\n",
            "28/28 [==============================] - 1s 40ms/step - loss: 1582782464.0000 - mae: 25092.9453 - mse: 1593344896.0000 - val_loss: 1178426624.0000 - val_mae: 22992.3477 - val_mse: 1183848832.0000\n",
            "Epoch 90/100\n",
            "28/28 [==============================] - 1s 40ms/step - loss: 1525025664.0000 - mae: 25014.1484 - mse: 1551961344.0000 - val_loss: 983057280.0000 - val_mae: 21471.3379 - val_mse: 991219136.0000\n",
            "Epoch 91/100\n",
            "28/28 [==============================] - 1s 39ms/step - loss: 1560639616.0000 - mae: 24908.4375 - mse: 1575042688.0000 - val_loss: 1070557248.0000 - val_mae: 22275.5449 - val_mse: 1075742592.0000\n",
            "Epoch 92/100\n",
            "28/28 [==============================] - 1s 40ms/step - loss: 1619583744.0000 - mae: 26114.7461 - mse: 1611283968.0000 - val_loss: 1085853056.0000 - val_mae: 22087.0391 - val_mse: 1091434880.0000\n",
            "Epoch 93/100\n",
            "28/28 [==============================] - 1s 40ms/step - loss: 1592662400.0000 - mae: 24857.8418 - mse: 1608628224.0000 - val_loss: 1170442624.0000 - val_mae: 22888.0820 - val_mse: 1175757568.0000\n",
            "Epoch 94/100\n",
            "28/28 [==============================] - 1s 40ms/step - loss: 1594583168.0000 - mae: 24872.1465 - mse: 1604787200.0000 - val_loss: 1401388416.0000 - val_mae: 26111.2031 - val_mse: 1405293056.0000\n",
            "Epoch 95/100\n",
            "28/28 [==============================] - 1s 41ms/step - loss: 1719249152.0000 - mae: 24926.0039 - mse: 1593133056.0000 - val_loss: 3541138176.0000 - val_mae: 48301.0195 - val_mse: 3547015168.0000\n",
            "Epoch 96/100\n",
            "28/28 [==============================] - 1s 40ms/step - loss: 1633571712.0000 - mae: 25420.0430 - mse: 1664092928.0000 - val_loss: 979310272.0000 - val_mae: 21908.9883 - val_mse: 988613184.0000\n",
            "Epoch 97/100\n",
            "28/28 [==============================] - 1s 40ms/step - loss: 1583536768.0000 - mae: 25408.9199 - mse: 1591981952.0000 - val_loss: 970904576.0000 - val_mae: 21935.3730 - val_mse: 979959744.0000\n",
            "Epoch 98/100\n",
            "28/28 [==============================] - 1s 39ms/step - loss: 1672175232.0000 - mae: 25503.8457 - mse: 1692508160.0000 - val_loss: 964133504.0000 - val_mae: 21777.7949 - val_mse: 972732416.0000\n",
            "Epoch 99/100\n",
            "28/28 [==============================] - 1s 40ms/step - loss: 1605159808.0000 - mae: 25410.1660 - mse: 1631578624.0000 - val_loss: 1008542912.0000 - val_mae: 21796.2266 - val_mse: 1014222656.0000\n",
            "Epoch 100/100\n",
            "28/28 [==============================] - 1s 39ms/step - loss: 1557856512.0000 - mae: 25263.3613 - mse: 1562469632.0000 - val_loss: 1172955008.0000 - val_mae: 23062.2539 - val_mse: 1177845248.0000\n",
            "\n",
            "Evaluation\n",
            "12/12 [==============================] - 0s 6ms/step - loss: 1166708352.0000 - mae: 22643.6289 - mse: 1141260928.0000\n"
          ],
          "name": "stdout"
        },
        {
          "output_type": "execute_result",
          "data": {
            "text/plain": [
              "[1166708352.0, 22643.62890625, 1141260928.0]"
            ]
          },
          "metadata": {
            "tags": []
          },
          "execution_count": 307
        }
      ]
    },
    {
      "cell_type": "markdown",
      "metadata": {
        "id": "Qv1C7pI84VEs",
        "colab_type": "text"
      },
      "source": [
        "## Predicciones del Modelo"
      ]
    },
    {
      "cell_type": "code",
      "metadata": {
        "id": "s0sIgFWt4XRk",
        "colab_type": "code",
        "colab": {}
      },
      "source": [
        ""
      ],
      "execution_count": 0,
      "outputs": []
    }
  ]
}